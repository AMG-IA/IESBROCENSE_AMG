{
  "nbformat": 4,
  "nbformat_minor": 0,
  "metadata": {
    "colab": {
      "provenance": [],
      "authorship_tag": "ABX9TyMNyREmlMLzy4X4cW9OxOmP",
      "include_colab_link": true
    },
    "kernelspec": {
      "name": "python3",
      "display_name": "Python 3"
    },
    "language_info": {
      "name": "python"
    }
  },
  "cells": [
    {
      "cell_type": "markdown",
      "metadata": {
        "id": "view-in-github",
        "colab_type": "text"
      },
      "source": [
        "<a href=\"https://colab.research.google.com/github/Tronkoletas/IESBROCENSE/blob/main/Ejercicios_Pandas_2.ipynb\" target=\"_parent\"><img src=\"https://colab.research.google.com/assets/colab-badge.svg\" alt=\"Open In Colab\"/></a>"
      ]
    },
    {
      "cell_type": "code",
      "source": [
        "# CARGA PANDAS y el dataset de estadísticas de jugadores de futbol..."
      ],
      "metadata": {
        "id": "vx-Vl9RdKXzZ"
      },
      "execution_count": null,
      "outputs": []
    },
    {
      "cell_type": "code",
      "execution_count": null,
      "metadata": {
        "id": "Kzg-8QfiKLix"
      },
      "outputs": [],
      "source": [
        "# 1. ¿Cual es la media de los goles de 'Lionel Messi' ?\n"
      ]
    },
    {
      "cell_type": "code",
      "source": [
        "# 2. ¿ Y la de 'Cristiano Ronaldo' ?\n"
      ],
      "metadata": {
        "id": "0st1UwjdKQ2f"
      },
      "execution_count": null,
      "outputs": []
    },
    {
      "cell_type": "code",
      "source": [
        "# 3. ¿ Cuántos goles marcó Cristiano Ronaldo en el año 2020 ?\n"
      ],
      "metadata": {
        "id": "M98j2YopKR-r"
      },
      "execution_count": null,
      "outputs": []
    },
    {
      "cell_type": "code",
      "source": [
        "# 4. ¿Cuántos jugadores (NO REPETIDOS) hay en el dataset?\n"
      ],
      "metadata": {
        "id": "g3kj88N0KS_Z"
      },
      "execution_count": null,
      "outputs": []
    },
    {
      "cell_type": "code",
      "source": [
        "# 5. ¿Cuántos equipos hay?\n"
      ],
      "metadata": {
        "id": "vrjEbfeRKT5X"
      },
      "execution_count": null,
      "outputs": []
    },
    {
      "cell_type": "code",
      "source": [
        "# 6. ¿Cuál fue la media de goles de los jugadores del 'Barcelona' en el 2020 ?\n"
      ],
      "metadata": {
        "id": "6HRXaEiVKU0S"
      },
      "execution_count": null,
      "outputs": []
    },
    {
      "cell_type": "code",
      "source": [
        "# 7. ¿Cuántos goles anotó el 'Barcelona' en el 2018? ¿Y el Madrid?\n"
      ],
      "metadata": {
        "id": "sCSh0xihKVrb"
      },
      "execution_count": null,
      "outputs": []
    },
    {
      "cell_type": "code",
      "source": [
        "# 8. EL nombre del jugador del 'Barcelona' que más goles anotó en 2017."
      ],
      "metadata": {
        "id": "gcNIrPC6KWm5"
      },
      "execution_count": null,
      "outputs": []
    }
  ]
}