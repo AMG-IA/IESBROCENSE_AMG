{
  "nbformat": 4,
  "nbformat_minor": 0,
  "metadata": {
    "colab": {
      "provenance": [],
      "authorship_tag": "ABX9TyMebdx28x+idIzw3PSpoXm6",
      "include_colab_link": true
    },
    "kernelspec": {
      "name": "python3",
      "display_name": "Python 3"
    },
    "language_info": {
      "name": "python"
    }
  },
  "cells": [
    {
      "cell_type": "markdown",
      "metadata": {
        "id": "view-in-github",
        "colab_type": "text"
      },
      "source": [
        "<a href=\"https://colab.research.google.com/github/Tronkoletas/IESBROCENSE/blob/main/EXA_2EVA_IA.ipynb\" target=\"_parent\"><img src=\"https://colab.research.google.com/assets/colab-badge.svg\" alt=\"Open In Colab\"/></a>"
      ]
    },
    {
      "cell_type": "markdown",
      "source": [
        "#Examen 16 de marzo 2ª EVALUACIÓN\n",
        "##**Nombre: _____________**\n",
        "\n",
        "A continuación se describen los pasos a seguir para realizar el examen de la **segunda evaluación**.\n",
        "\n",
        "- **Descarga** el dataset movies.csv que se encuentra en el potal EVEX https://moodle.educarex.es/evex/ y guárdalo en el directorio raiz de tu Drive.\n",
        "- Rellena el examen y al finalizar súbelo a la tarea abierta en EVEX para este fin."
      ],
      "metadata": {
        "id": "ZAr8M-Zob7qm"
      }
    },
    {
      "cell_type": "code",
      "execution_count": null,
      "metadata": {
        "id": "_GU-pD-Nbv1F"
      },
      "outputs": [],
      "source": [
        "# 1. Carga el dataset desde el directorio raiz de tu drive...\n"
      ]
    },
    {
      "cell_type": "code",
      "source": [
        "# 2. Muestra dos filas aleatorias del dataset.\n"
      ],
      "metadata": {
        "id": "1SxAj15Ydzq-"
      },
      "execution_count": 60,
      "outputs": []
    },
    {
      "cell_type": "code",
      "source": [
        "# 3. Muestra el nombre de las columnas del dataset en formato lista\n"
      ],
      "metadata": {
        "id": "haKRhIDLxyC2"
      },
      "execution_count": null,
      "outputs": []
    },
    {
      "cell_type": "code",
      "source": [
        "# 4. Muestra el dataset ordenado por el campo Año de forma ascendente.\n"
      ],
      "metadata": {
        "id": "OLoQGzb5x7ai"
      },
      "execution_count": null,
      "outputs": []
    },
    {
      "cell_type": "code",
      "source": [
        "# 5. Ordena el dataset por Director y Año, para el caso de un Director con más de 1 película.\n"
      ],
      "metadata": {
        "id": "CYcif_Aoygm6"
      },
      "execution_count": null,
      "outputs": []
    },
    {
      "cell_type": "code",
      "source": [
        "# 6. Muestra todas las pelícluas de 'Steven Spielberg'\n"
      ],
      "metadata": {
        "id": "cfvkTayCZWAn"
      },
      "execution_count": null,
      "outputs": []
    },
    {
      "cell_type": "code",
      "source": [
        "# 7. Muestra todas las películas de 'Steven Spielberg' en el 2011\n"
      ],
      "metadata": {
        "id": "V2iIZHT613Ya"
      },
      "execution_count": null,
      "outputs": []
    },
    {
      "cell_type": "code",
      "source": [
        "# 8. ¿Cuál es la película con mayor Valoración?\n"
      ],
      "metadata": {
        "id": "oUwk1-HM2ApF"
      },
      "execution_count": null,
      "outputs": []
    },
    {
      "cell_type": "code",
      "source": [
        "# 9. Cuantas películas tienen una valoración por debajo de 4.\n"
      ],
      "metadata": {
        "id": "CkZuhiZjZM97"
      },
      "execution_count": null,
      "outputs": []
    },
    {
      "cell_type": "code",
      "source": [
        "# 10. ¿Cuál es la película más antigua?\n"
      ],
      "metadata": {
        "id": "EaG1jfT75xED"
      },
      "execution_count": 40,
      "outputs": []
    },
    {
      "cell_type": "code",
      "source": [
        "# 11. ¿Cuál es la media de las Valoraciones de las películas de 'Steven Spielberg' ?\n"
      ],
      "metadata": {
        "id": "s-xTngag7HYW"
      },
      "execution_count": null,
      "outputs": []
    },
    {
      "cell_type": "code",
      "source": [
        "# 12. Según el campo 'Valoración' ¿Cuál es la mejor película de 'Steven Spielberg' ?\n"
      ],
      "metadata": {
        "id": "9xqsiceo9HyV"
      },
      "execution_count": null,
      "outputs": []
    },
    {
      "cell_type": "code",
      "source": [
        "# 13. Muestra por pantalla una gráfica con las medias de valoración de los Directores  ['Steven Spielberg', 'Tim Burton', 'John Ford', 'Akira Kurosawa']\n"
      ],
      "metadata": {
        "id": "KJIPqx_J93xc"
      },
      "execution_count": null,
      "outputs": []
    }
  ]
}