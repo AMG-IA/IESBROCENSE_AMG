{
  "nbformat": 4,
  "nbformat_minor": 0,
  "metadata": {
    "colab": {
      "provenance": [],
      "authorship_tag": "ABX9TyN+uAsiFuVUJkd04IYNc9uk",
      "include_colab_link": true
    },
    "kernelspec": {
      "name": "python3",
      "display_name": "Python 3"
    },
    "language_info": {
      "name": "python"
    }
  },
  "cells": [
    {
      "cell_type": "markdown",
      "metadata": {
        "id": "view-in-github",
        "colab_type": "text"
      },
      "source": [
        "<a href=\"https://colab.research.google.com/github/Tronkoletas/IESBROCENSE/blob/main/EXA_1EVA_IA.ipynb\" target=\"_parent\"><img src=\"https://colab.research.google.com/assets/colab-badge.svg\" alt=\"Open In Colab\"/></a>"
      ]
    },
    {
      "cell_type": "markdown",
      "source": [
        "# Examen 7 de diciembre\n",
        "### Nombre: _______________"
      ],
      "metadata": {
        "id": "VbKWIxESXh5q"
      }
    },
    {
      "cell_type": "code",
      "execution_count": null,
      "metadata": {
        "id": "beOf-0rNR3Eu"
      },
      "outputs": [],
      "source": [
        "# Inserte la parte que falta del código a continuación para imprimir por pantalla \"Hello World\".\n",
        "\n",
        "_____(\"Hola Mundo\")"
      ]
    },
    {
      "cell_type": "code",
      "source": [
        "# Los comentarios en Python se escriben con un carácter especial, ¿cuál?\n",
        "\n",
        "_ Esto es un comentario"
      ],
      "metadata": {
        "id": "ptVEL74MYAAL"
      },
      "execution_count": null,
      "outputs": []
    },
    {
      "cell_type": "code",
      "source": [
        "# Cree una variable con nombre nombrecoche y asígnele el valor Volvo.\n",
        "\n",
        "______ = _______"
      ],
      "metadata": {
        "id": "h7P_ApcXYMRY"
      },
      "execution_count": null,
      "outputs": []
    },
    {
      "cell_type": "code",
      "source": [
        "# Cree una variable nombrada x y asígnele el valor 50.\n",
        "\n",
        "_ = __"
      ],
      "metadata": {
        "id": "2W2HYDdpZJWz"
      },
      "execution_count": null,
      "outputs": []
    },
    {
      "cell_type": "code",
      "source": [
        "# Muestre la suma de 5 + 10, usando dos variables: x e y.\n",
        "\n",
        "_ = _ \n",
        "y = 10\n",
        "print(x _ y)"
      ],
      "metadata": {
        "id": "-qmqnKG9ZNHi"
      },
      "execution_count": null,
      "outputs": []
    },
    {
      "cell_type": "code",
      "source": [
        "# Cree una variable llamada z, asígnele x + y, finalmente muestre el resultado.\n",
        "\n",
        "x = 5\n",
        "y = 10\n",
        "_  = x + y\n",
        "print( _ )\n"
      ],
      "metadata": {
        "id": "REyyjQpWZlgR"
      },
      "execution_count": null,
      "outputs": []
    },
    {
      "cell_type": "code",
      "source": [
        "# Elimine los caracteres ilegales en el nombre de la variable:\n",
        "\n",
        "2my-first_name = \"Ángel\"\n"
      ],
      "metadata": {
        "id": "P38JdgofZ1D1"
      },
      "execution_count": null,
      "outputs": []
    },
    {
      "cell_type": "code",
      "source": [
        "# Inserte la sangría que falta para que el código sea correcto:\n",
        "\n",
        "if 5 > 2:\n",
        "print(\"Five is greater than two!\")"
      ],
      "metadata": {
        "id": "rNqzQSAmY1PQ"
      },
      "execution_count": null,
      "outputs": []
    },
    {
      "cell_type": "code",
      "source": [
        "# Inserte la sintaxis correcta para convertir x en un número entero.\n",
        "\n",
        "x = '5'\n",
        "x = ___(x)\n"
      ],
      "metadata": {
        "id": "IGxx8TRIY9DU"
      },
      "execution_count": null,
      "outputs": []
    },
    {
      "cell_type": "code",
      "source": [
        "# Muestre la longitud de la siguiente cadena de texto\n",
        "\n",
        "x = \"Hello World\"\n",
        "print(________)\n"
      ],
      "metadata": {
        "id": "ftCjfPoCabmE"
      },
      "execution_count": null,
      "outputs": []
    },
    {
      "cell_type": "code",
      "source": [
        "# Obtenga el primer carácter de la cadena txt.\n",
        "\n",
        "txt = \"Hello World\"\n",
        "x = _________\n"
      ],
      "metadata": {
        "id": "3UNVJXRWarxC"
      },
      "execution_count": null,
      "outputs": []
    },
    {
      "cell_type": "code",
      "source": [
        "# Obtenga los caracteres del índice 2 al índice 4 (llo).\n",
        "\n",
        "txt = \"Hello World\"\n",
        "x = _______\n"
      ],
      "metadata": {
        "id": "iFkRKy1Ka5yi"
      },
      "execution_count": null,
      "outputs": []
    },
    {
      "cell_type": "code",
      "source": [
        "# Devuelve la cadena sin ningún espacio en blanco al principio o al final.\n",
        "\n",
        "txt = \" Hello World \"\n",
        "x = _____________\n"
      ],
      "metadata": {
        "id": "jw4Ck1gzbFFd"
      },
      "execution_count": null,
      "outputs": []
    },
    {
      "cell_type": "code",
      "source": [
        "# Reemplace el carácter H con una J.\n",
        "\n",
        "txt = \"Hello World\"\n",
        "txt = ______________"
      ],
      "metadata": {
        "id": "ORKZuKXSbOJP"
      },
      "execution_count": null,
      "outputs": []
    },
    {
      "cell_type": "code",
      "source": [
        "# La siguiente declaración imprimiría un valor booleano, ¿cuál?\n",
        "\n",
        "print(10 > 9)\n",
        "______"
      ],
      "metadata": {
        "id": "WJtfH5YhbmO6"
      },
      "execution_count": null,
      "outputs": []
    },
    {
      "cell_type": "code",
      "source": [
        "# La siguiente declaración imprimiría un valor booleano, ¿cuál?\n",
        "\n",
        "print(10 == 9)\n",
        "________"
      ],
      "metadata": {
        "id": "ozWxFWnEbtcu"
      },
      "execution_count": null,
      "outputs": []
    },
    {
      "cell_type": "code",
      "source": [
        "# Multiplique 10 con 5, e imprima el resultado.\n",
        "\n",
        "______________"
      ],
      "metadata": {
        "id": "WEBxUGjKb2k6"
      },
      "execution_count": null,
      "outputs": []
    },
    {
      "cell_type": "code",
      "source": [
        "# Divide 10 por 2 e imprime el resultado.\n",
        "\n",
        "________________"
      ],
      "metadata": {
        "id": "fTbbEZrOb6UO"
      },
      "execution_count": null,
      "outputs": []
    },
    {
      "cell_type": "code",
      "source": [
        "# Utilice el operador de pertenencia correcto para verificar si \"manzana\" está presente en la lista frutas.\n",
        "\n",
        "frutas = [\"manzana\", \"banana\"]\n",
        "if \"manzana\" __ frutas:\n",
        "  print(\"Si, manzana es una fruta!\")"
      ],
      "metadata": {
        "id": "_fE3Ad8dcAiB"
      },
      "execution_count": null,
      "outputs": []
    },
    {
      "cell_type": "code",
      "source": [
        "# Use el operador de comparación correcto para verificar si 5 no es igual a 10.\n",
        "\n",
        "if 5 __ 10:\n",
        "  print(\"5 y 10 no son iguales\")"
      ],
      "metadata": {
        "id": "T8XW-FcUcSaf"
      },
      "execution_count": null,
      "outputs": []
    },
    {
      "cell_type": "code",
      "source": [
        "# Use el operador lógico correcto para verificar si al menos una de las dos declaraciones es True.\n",
        "\n",
        "if 5 == 10 __ 4 == 4:\n",
        "  print(\"Al menos una de las sentencias es correcta\")"
      ],
      "metadata": {
        "id": "1tBmqLUwckH7"
      },
      "execution_count": null,
      "outputs": []
    },
    {
      "cell_type": "code",
      "source": [
        "# Imprime el segundo elemento de la lista frutas.\n",
        "\n",
        "frutas = [\"apple\", \"banana\", \"cereza\"]\n",
        "print( _____________ )"
      ],
      "metadata": {
        "id": "0dbV8oS8csOY"
      },
      "execution_count": null,
      "outputs": []
    },
    {
      "cell_type": "code",
      "source": [
        "# Cambia el valor de \"manzana\" a \"kiwi\", en la lista frutas.\n",
        "\n",
        "frutas = [\"manzana\", \"banana\", \"cereza\"]\n",
        "__________ = __________ \n"
      ],
      "metadata": {
        "id": "3CH6ra8ocyt4"
      },
      "execution_count": null,
      "outputs": []
    },
    {
      "cell_type": "code",
      "source": [
        "# Añade la fruta \"naranja\" a la lista frutas.\n",
        "\n",
        "frutas = [\"manzana\", \"banana\", \"cereza\"]\n",
        "__________ = __________ \n"
      ],
      "metadata": {
        "id": "czwWJvOkdBzz"
      },
      "execution_count": null,
      "outputs": []
    },
    {
      "cell_type": "code",
      "source": [
        "# Agregue \"limón\" como segundo elemento de la lista frutas.\n",
        "\n",
        "frutas = [\"manzana\", \"banana\", \"cereza\"]\n",
        "__________ = __________ \n"
      ],
      "metadata": {
        "id": "qunorigEdPeL"
      },
      "execution_count": null,
      "outputs": []
    },
    {
      "cell_type": "code",
      "source": [
        "# Elimine \"banana\" de la lista.\n",
        "\n",
        "frutas = [\"manzana\", \"banana\", \"cereza\"]\n",
        "__________ = __________ \n"
      ],
      "metadata": {
        "id": "SbUTAtbddftB"
      },
      "execution_count": null,
      "outputs": []
    },
    {
      "cell_type": "code",
      "source": [
        "# Utilice la indexación negativa para imprimir el último elemento de la lista.\n",
        "\n",
        "frutas = [\"manzana\", \"banana\", \"cereza\"]\n",
        "__________ \n"
      ],
      "metadata": {
        "id": "6p4A0eshdnvQ"
      },
      "execution_count": null,
      "outputs": []
    },
    {
      "cell_type": "code",
      "source": [
        "# Utilice un rango de índices para imprimir el tercer, cuarto y quinto elemento de la lista.\n",
        "\n",
        "frutas = [\"manzana\", \"banana\", \"cereza\", \"naranja\", \"kiwi\", \"melon\", \"mango\"]\n",
        "_______________"
      ],
      "metadata": {
        "id": "9Of5l730duhr"
      },
      "execution_count": null,
      "outputs": []
    },
    {
      "cell_type": "code",
      "source": [
        "# Utilice la sintaxis correcta para imprimir el número de elementos de la lista.\n",
        "\n",
        "frutas = [\"manzana\", \"banana\", \"cereza\", \"naranja\", \"kiwi\", \"melon\", \"mango\"]\n",
        "_______________\n"
      ],
      "metadata": {
        "id": "vu3LE-Ghd7Cw"
      },
      "execution_count": null,
      "outputs": []
    },
    {
      "cell_type": "code",
      "source": [
        "# Pida al usuario que introduzca un número y di si el número es negativo o positivo:\n",
        "\n",
        "\n",
        "\n"
      ],
      "metadata": {
        "id": "51cJFnS0eFcF"
      },
      "execution_count": null,
      "outputs": []
    },
    {
      "cell_type": "code",
      "source": [
        "# Muestra por pantalla los números del 0 al 100 de 8 en 8:\n",
        "\n",
        "\n"
      ],
      "metadata": {
        "id": "dixM887seWyP"
      },
      "execution_count": null,
      "outputs": []
    },
    {
      "cell_type": "code",
      "source": [
        "# Cuenta cuantas frutas de la siguiente lista empiezan por la letra 'm'\n",
        "\n",
        "frutas = [\"manzana\", \"banana\", \"cereza\", \"naranja\", \"kiwi\", \"melon\", \"mango\"]\n",
        "\n"
      ],
      "metadata": {
        "id": "zu3txhYAeddR"
      },
      "execution_count": null,
      "outputs": []
    }
  ]
}